{
 "cells": [
  {
   "cell_type": "code",
   "execution_count": 111,
   "metadata": {
    "collapsed": true
   },
   "outputs": [],
   "source": [
    "import matplotlib.pyplot as plt\n",
    "import seaborn as sns\n",
    "import joblib\n",
    "import numpy as np\n",
    "import pandas as pd\n",
    "from scipy import stats\n",
    "from scipy.stats import ranksums"
   ]
  },
  {
   "cell_type": "code",
   "execution_count": 2,
   "outputs": [],
   "source": [
    "[predictions_list, labels_all_deg_seed, labels_all_simba_seed, labels_all_simba_seed2] = \\\n",
    "    np.load('../temp/predictions_20seeds.npy', allow_pickle=True)"
   ],
   "metadata": {
    "collapsed": false
   }
  },
  {
   "cell_type": "code",
   "execution_count": 3,
   "outputs": [],
   "source": [
    "with open('/Users/alexanderhsu/Google Drive/My Drive/2023Data/asoid/ALL_test_data.sav', 'rb') as fr:\n",
    "    [data_test, targets_test] = joblib.load(fr)"
   ],
   "metadata": {
    "collapsed": false
   }
  },
  {
   "cell_type": "code",
   "execution_count": 117,
   "outputs": [
    {
     "data": {
      "text/plain": "<Figure size 200x200 with 1 Axes>",
      "image/png": "[encoded data removed]"
     },
     "metadata": {},
     "output_type": "display_data"
    }
   ],
   "source": [
    "s = 1\n",
    "framerate = 30\n",
    "max_dur = 8\n",
    "fig, ax = plt.subplots(1, 1, figsize=(2, 2))\n",
    "\n",
    "# get change in labels\n",
    "behav_start_simba = np.where(np.diff(labels_all_simba_seed2[s]) != 0)[0]\n",
    "behav_start_deg = np.where(np.diff(labels_all_deg_seed[s]) != 0)[0]\n",
    "behav_start_asoid = np.where(np.diff(predictions_list[-1][s]) != 0)[0]\n",
    "behav_start_annot = np.where(np.diff(targets_test) != 0)[0]\n",
    "\n",
    "# plot empirical cdfs of duration (left is short, right is long)\n",
    "sns.ecdfplot(np.diff(behav_start_simba),\n",
    "             color='dodgerblue',\n",
    "             ax=ax)\n",
    "sns.ecdfplot(np.diff(behav_start_deg),\n",
    "             color='mediumpurple',\n",
    "             ax=ax)\n",
    "sns.ecdfplot(np.diff(behav_start_asoid),\n",
    "             color='deeppink',\n",
    "             ax=ax)\n",
    "sns.ecdfplot(np.diff(behav_start_annot),\n",
    "             color='k',\n",
    "             ax=ax)\n",
    "\n",
    "ax.set_xlim([0, framerate*max_dur])\n",
    "ax.set_xticks(np.arange(0, framerate*max_dur, framerate*2))\n",
    "ax.set_xticklabels(np.arange(0, max_dur, 2))\n",
    "plt.show()\n",
    "fig.savefig('/Users/alexanderhsu/Google Drive/My Drive/manuscript_figures/asoid/additional/prediction_duration_ecdf.svg')\n"
   ],
   "metadata": {
    "collapsed": false
   }
  },
  {
   "cell_type": "code",
   "execution_count": 67,
   "outputs": [],
   "source": [
    "# get behavior label that started\n",
    "starting_behav_simba = labels_all_simba_seed2[s][behav_start_simba+1]\n",
    "starting_behav_deg = labels_all_deg_seed[s][behav_start_deg+1]\n",
    "starting_behav_asoid = predictions_list[-1][s][behav_start_asoid+1]\n",
    "\n",
    "# get behavior duration\n",
    "behav_dur_simba = np.diff(np.hstack([0, behav_start_simba]))\n",
    "behav_dur_deg = np.diff(np.hstack([0, behav_start_deg]))\n",
    "behav_dur_asoid = np.diff(np.hstack([0, behav_start_asoid]))\n",
    "\n",
    "# starting_behav_simba.shape, behav_dur_simba.shape\n",
    "behav_duration_dict_nosimba = {'algo': np.hstack([\n",
    "                                          np.repeat(['DEG'],\n",
    "                                                    len(starting_behav_deg[(behav_dur_deg<\n",
    "                                                                           np.percentile(behav_dur_deg, 95)) &\n",
    "                                                                           (behav_dur_deg>\n",
    "                                                                           np.percentile(behav_dur_deg, 5))\n",
    "                                                        ])),\n",
    "                                          np.repeat(['A-SOiD'],\n",
    "                                                    len(starting_behav_asoid[(behav_dur_asoid<\n",
    "                                                                              np.percentile(behav_dur_asoid, 95)) &\n",
    "                                                                             (behav_dur_asoid>\n",
    "                                                                              np.percentile(behav_dur_asoid, 5))\n",
    "                                                        ]))]),\n",
    "                       'behavior': np.hstack([\n",
    "                                              starting_behav_deg[(behav_dur_deg<\n",
    "                                                                  np.percentile(behav_dur_deg, 95)) &\n",
    "                                                                 (behav_dur_deg>\n",
    "                                                                  np.percentile(behav_dur_deg, 5))\n",
    "                                                        ],\n",
    "                                              starting_behav_asoid[(behav_dur_asoid<\n",
    "                                                                   np.percentile(behav_dur_asoid, 95)) &\n",
    "                                                                   (behav_dur_asoid>\n",
    "                                                                   np.percentile(behav_dur_asoid, 5))\n",
    "                                              ]]),\n",
    "                       'duration': np.hstack([\n",
    "                                              behav_dur_deg[(behav_dur_deg<\n",
    "                                                             np.percentile(behav_dur_deg, 95)) &\n",
    "                                                            (behav_dur_deg>\n",
    "                                                             np.percentile(behav_dur_deg, 5))\n",
    "                                                        ],\n",
    "                                              behav_dur_asoid[(behav_dur_asoid<\n",
    "                                                               np.percentile(behav_dur_asoid, 95)) &\n",
    "                                                              (behav_dur_asoid>\n",
    "                                                               np.percentile(behav_dur_asoid, 5))\n",
    "                                              ]]),\n",
    "                       }\n",
    "behav_duration_df_nosimba = pd.DataFrame(data=behav_duration_dict_nosimba)\n",
    "\n",
    "# starting_behav_simba.shape, behav_dur_simba.shape\n",
    "behav_duration_dict = {'algo': np.hstack([np.repeat(['SimBA'], len(starting_behav_simba)),\n",
    "                                          np.repeat(['DEG'], len(starting_behav_deg)),\n",
    "                                          np.repeat(['A-SOiD'], len(starting_behav_asoid))]),\n",
    "                       'behavior': np.hstack([starting_behav_simba,\n",
    "                                              starting_behav_deg,\n",
    "                                              starting_behav_asoid]),\n",
    "                       'duration': np.hstack([behav_dur_simba,\n",
    "                                              behav_dur_deg,\n",
    "                                              behav_dur_asoid]),\n",
    "                       }\n",
    "behav_duration_df = pd.DataFrame(data=behav_duration_dict)\n"
   ],
   "metadata": {
    "collapsed": false
   }
  },
  {
   "cell_type": "code",
   "execution_count": 89,
   "outputs": [
    {
     "data": {
      "text/plain": "<Figure size 200x250 with 1 Axes>",
      "image/png": "[encoded data removed]"
     },
     "metadata": {},
     "output_type": "display_data"
    }
   ],
   "source": [
    "s = 1\n",
    "behav_of_interest = 2\n",
    "framerate = 30\n",
    "max_dur = 3\n",
    "fig, ax = plt.subplots(1, 1, figsize=(2, 2.5))\n",
    "\n",
    "# get change in labels\n",
    "behav_start_simba = np.where(np.diff(labels_all_simba_seed2[s]) != 0)[0]\n",
    "behav_start_deg = np.where(np.diff(labels_all_deg_seed[s]) != 0)[0]\n",
    "behav_start_asoid = np.where(np.diff(predictions_list[-1][s]) != 0)[0]\n",
    "behav_start_annot = np.where(np.diff(targets_test) != 0)[0]\n",
    "\n",
    "# plot empirical cdfs of duration (left is short, right is long)\n",
    "sns.ecdfplot(behav_duration_df_nosimba[\n",
    "                 (behav_duration_df_nosimba['algo']=='DEG') &\n",
    "                 (behav_duration_df_nosimba['behavior']==behav_of_interest)]['duration'],\n",
    "             color='mediumpurple',\n",
    "             ax=ax)\n",
    "sns.ecdfplot(behav_duration_df_nosimba[\n",
    "                 (behav_duration_df_nosimba['algo']=='A-SOiD') &\n",
    "                 (behav_duration_df_nosimba['behavior']==behav_of_interest)]['duration'],\n",
    "             color='deeppink',\n",
    "             ax=ax)\n",
    "# sns.ecdfplot(np.diff(behav_start_deg),\n",
    "#              color='mediumpurple',\n",
    "#              ax=ax)\n",
    "# sns.ecdfplot(np.diff(behav_start_asoid),\n",
    "#              color='deeppink',\n",
    "#              ax=ax)\n",
    "# sns.ecdfplot(np.diff(behav_start_annot),\n",
    "#              color='k',\n",
    "#              ax=ax)\n",
    "\n",
    "# ax.set_xlim([0, framerate*max_dur])\n",
    "# ax.set_xticks(np.arange(0, framerate*max_dur, framerate*2))\n",
    "# ax.set_xticklabels(np.arange(0, max_dur, 2))\n",
    "plt.show()\n",
    "\n"
   ],
   "metadata": {
    "collapsed": false
   }
  },
  {
   "cell_type": "code",
   "execution_count": 86,
   "outputs": [
    {
     "data": {
      "text/plain": "        algo  behavior  duration\n4045  A-SOiD         0        57\n4161  A-SOiD         0        20\n4179  A-SOiD         0        17\n4446  A-SOiD         0        21\n4482  A-SOiD         0        62\n...      ...       ...       ...\n8068  A-SOiD         0        41\n8104  A-SOiD         0        61\n8106  A-SOiD         0        36\n8119  A-SOiD         0        45\n8242  A-SOiD         0         4\n\n[511 rows x 3 columns]",
      "text/html": "<div>\n<style scoped>\n    .dataframe tbody tr th:only-of-type {\n        vertical-align: middle;\n    }\n\n    .dataframe tbody tr th {\n        vertical-align: top;\n    }\n\n    .dataframe thead th {\n        text-align: right;\n    }\n</style>\n<table border=\"1\" class=\"dataframe\">\n  <thead>\n    <tr style=\"text-align: right;\">\n      <th></th>\n      <th>algo</th>\n      <th>behavior</th>\n      <th>duration</th>\n    </tr>\n  </thead>\n  <tbody>\n    <tr>\n      <th>4045</th>\n      <td>A-SOiD</td>\n      <td>0</td>\n      <td>57</td>\n    </tr>\n    <tr>\n      <th>4161</th>\n      <td>A-SOiD</td>\n      <td>0</td>\n      <td>20</td>\n    </tr>\n    <tr>\n      <th>4179</th>\n      <td>A-SOiD</td>\n      <td>0</td>\n      <td>17</td>\n    </tr>\n    <tr>\n      <th>4446</th>\n      <td>A-SOiD</td>\n      <td>0</td>\n      <td>21</td>\n    </tr>\n    <tr>\n      <th>4482</th>\n      <td>A-SOiD</td>\n      <td>0</td>\n      <td>62</td>\n    </tr>\n    <tr>\n      <th>...</th>\n      <td>...</td>\n      <td>...</td>\n      <td>...</td>\n    </tr>\n    <tr>\n      <th>8068</th>\n      <td>A-SOiD</td>\n      <td>0</td>\n      <td>41</td>\n    </tr>\n    <tr>\n      <th>8104</th>\n      <td>A-SOiD</td>\n      <td>0</td>\n      <td>61</td>\n    </tr>\n    <tr>\n      <th>8106</th>\n      <td>A-SOiD</td>\n      <td>0</td>\n      <td>36</td>\n    </tr>\n    <tr>\n      <th>8119</th>\n      <td>A-SOiD</td>\n      <td>0</td>\n      <td>45</td>\n    </tr>\n    <tr>\n      <th>8242</th>\n      <td>A-SOiD</td>\n      <td>0</td>\n      <td>4</td>\n    </tr>\n  </tbody>\n</table>\n<p>511 rows × 3 columns</p>\n</div>"
     },
     "execution_count": 86,
     "metadata": {},
     "output_type": "execute_result"
    }
   ],
   "source": [
    "behav_duration_df_nosimba[\n",
    "                 (behav_duration_df_nosimba['algo']=='A-SOiD') &\n",
    "                 (behav_duration_df_nosimba['behavior']==0)]"
   ],
   "metadata": {
    "collapsed": false
   }
  },
  {
   "cell_type": "code",
   "execution_count": 113,
   "outputs": [
    {
     "data": {
      "text/plain": "RanksumsResult(statistic=0.6470980438889995, pvalue=0.5175684912257692)"
     },
     "execution_count": 113,
     "metadata": {},
     "output_type": "execute_result"
    }
   ],
   "source": [
    "# stats.kstest(behav_dur_simba, behav_dur_deg, method='exact')\n",
    "# stats.kstest(behav_dur_asoid, behav_dur_deg, method='exact')\n",
    "# stats.ttest_ind(behav_dur_asoid, behav_dur_deg)\n",
    "ranksums(behav_dur_asoid, behav_dur_deg)"
   ],
   "metadata": {
    "collapsed": false
   }
  },
  {
   "cell_type": "code",
   "execution_count": 108,
   "outputs": [
    {
     "data": {
      "text/plain": "Ttest_indResult(statistic=-4.089421027086083, pvalue=4.701793546606184e-05)"
     },
     "execution_count": 108,
     "metadata": {},
     "output_type": "execute_result"
    }
   ],
   "source": [
    "behav_of_interest = 2\n",
    "# stats.ks_2samp(sample1, sample2)\n",
    "# stats.ttest_ind(rvs1, rvs2)\n",
    "stats.ttest_ind(behav_duration_df_nosimba[\n",
    "                 (behav_duration_df_nosimba['algo']=='DEG') &\n",
    "                 (behav_duration_df_nosimba['behavior']==behav_of_interest)]['duration'],\n",
    "             behav_duration_df_nosimba[\n",
    "                 (behav_duration_df_nosimba['algo']=='A-SOiD') &\n",
    "                 (behav_duration_df_nosimba['behavior']==behav_of_interest)]['duration'],\n",
    "            )"
   ],
   "metadata": {
    "collapsed": false
   }
  },
  {
   "cell_type": "code",
   "execution_count": 118,
   "outputs": [
    {
     "data": {
      "text/plain": "<Figure size 200x200 with 1 Axes>",
      "image/png": "[encoded data removed]"
     },
     "metadata": {},
     "output_type": "display_data"
    }
   ],
   "source": [
    "fig, ax = plt.subplots(1, 1, figsize=(2, 2))\n",
    "sns.violinplot(data=behav_duration_df_nosimba,\n",
    "               cut=0,\n",
    "               x='behavior',\n",
    "               y='duration',\n",
    "               hue='algo',\n",
    "               split=True,\n",
    "               inner=None,\n",
    "               palette=['mediumpurple', 'deeppink'], ax=ax)\n",
    "ax.set_xticks(np.arange(4))\n",
    "ax.set_xticklabels(['attack', 'investig.', 'mount', 'other'])\n",
    "ax.set_yticks(np.arange(0, 240.1, 60))\n",
    "ax.set_yticklabels(np.arange(0, 8.1, 2))\n",
    "\n",
    "plt.show()\n",
    "fig.savefig('/Users/alexanderhsu/Google Drive/My Drive/manuscript_figures/asoid/additional/deg_asoid_durations.svg')"
   ],
   "metadata": {
    "collapsed": false
   }
  },
  {
   "cell_type": "code",
   "execution_count": null,
   "outputs": [],
   "source": [],
   "metadata": {
    "collapsed": false
   }
  }
 ],
 "metadata": {
  "kernelspec": {
   "display_name": "Python 3",
   "language": "python",
   "name": "python3"
  },
  "language_info": {
   "codemirror_mode": {
    "name": "ipython",
    "version": 2
   },
   "file_extension": ".py",
   "mimetype": "text/x-python",
   "name": "python",
   "nbconvert_exporter": "python",
   "pygments_lexer": "ipython2",
   "version": "2.7.6"
  }
 },
 "nbformat": 4,
 "nbformat_minor": 0
}
