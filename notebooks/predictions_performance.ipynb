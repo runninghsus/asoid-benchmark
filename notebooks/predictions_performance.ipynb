{
 "cells": [
  {
   "cell_type": "code",
   "execution_count": 1,
   "metadata": {
    "collapsed": true
   },
   "outputs": [],
   "source": [
    "import matplotlib.pyplot as plt\n",
    "import seaborn as sns\n",
    "import joblib\n",
    "import numpy as np\n",
    "from sklearn.metrics import f1_score\n",
    "from tqdm import notebook"
   ]
  },
  {
   "cell_type": "code",
   "execution_count": 2,
   "outputs": [],
   "source": [
    "[predictions_list, labels_all_deg_seed, labels_all_simba_seed2] = \\\n",
    "    np.load('../temp/predictions_20seeds.npy', allow_pickle=True)"
   ],
   "metadata": {
    "collapsed": false
   }
  },
  {
   "cell_type": "code",
   "execution_count": 3,
   "outputs": [],
   "source": [
    "with open('/Users/alexanderhsu/Google Drive/My Drive/2023Data/asoid/ALL_test_data.sav', 'rb') as fr:\n",
    "    [data_test, targets_test] = joblib.load(fr)"
   ],
   "metadata": {
    "collapsed": false
   }
  },
  {
   "cell_type": "code",
   "execution_count": 4,
   "outputs": [
    {
     "data": {
      "text/plain": "  0%|          | 0/20 [00:00<?, ?it/s]",
      "application/vnd.jupyter.widget-view+json": {
       "version_major": 2,
       "version_minor": 0,
       "model_id": "439faff083cc4e328c88d093619f7fb6"
      }
     },
     "metadata": {},
     "output_type": "display_data"
    }
   ],
   "source": [
    "micro_deg_other = []\n",
    "micro_simba_other = []\n",
    "micro_asoid_other = []\n",
    "\n",
    "micro_deg = []\n",
    "micro_simba = []\n",
    "micro_asoid = []\n",
    "\n",
    "macro_deg_other = []\n",
    "macro_simba_other = []\n",
    "macro_asoid_other = []\n",
    "\n",
    "macro_deg = []\n",
    "macro_simba = []\n",
    "macro_asoid = []\n",
    "\n",
    "f1_deg_other = []\n",
    "f1_simba_other = []\n",
    "f1_asoid_other = []\n",
    "\n",
    "f1_deg = []\n",
    "f1_simba = []\n",
    "f1_asoid = []\n",
    "\n",
    "\n",
    "for s in notebook.tqdm(range(len(labels_all_deg_seed))):\n",
    "\n",
    "    micro_deg_other.append(f1_score(targets_test,\n",
    "                              labels_all_deg_seed[s], average='weighted'))\n",
    "    micro_simba_other.append(f1_score(targets_test,\n",
    "                                labels_all_simba_seed2[s], average='weighted'))\n",
    "    micro_asoid_other.append(f1_score(targets_test,\n",
    "                                predictions_list[-1][s], average='weighted'))\n",
    "\n",
    "    micro_deg.append(f1_score(targets_test[(targets_test<3) & (labels_all_deg_seed[s]<3)],\n",
    "                              labels_all_deg_seed[s][(targets_test<3) & (labels_all_deg_seed[s]<3)],\n",
    "                              average='weighted'))\n",
    "    micro_simba.append(f1_score(targets_test[(targets_test<3) & (labels_all_simba_seed2[s]<3)],\n",
    "                                labels_all_simba_seed2[s][(targets_test<3) & (labels_all_simba_seed2[s]<3)],\n",
    "                                average='weighted'))\n",
    "    micro_asoid.append(f1_score(targets_test[(targets_test<3) & (predictions_list[-1][s]<3)],\n",
    "                                predictions_list[-1][s][(targets_test<3) & (predictions_list[-1][s]<3)],\n",
    "                                average='weighted'))\n",
    "\n",
    "    macro_deg_other.append(f1_score(targets_test,\n",
    "                              labels_all_deg_seed[s], average='macro'))\n",
    "    macro_simba_other.append(f1_score(targets_test,\n",
    "                                labels_all_simba_seed2[s], average='macro'))\n",
    "    macro_asoid_other.append(f1_score(targets_test,\n",
    "                                predictions_list[-1][s], average='macro'))\n",
    "\n",
    "    macro_deg.append(f1_score(targets_test[(targets_test<3) & (labels_all_deg_seed[s]<3)],\n",
    "                              labels_all_deg_seed[s][(targets_test<3) & (labels_all_deg_seed[s]<3)],\n",
    "                              average='macro'))\n",
    "    macro_simba.append(f1_score(targets_test[(targets_test<3) & (labels_all_simba_seed2[s]<3)],\n",
    "                                labels_all_simba_seed2[s][(targets_test<3) & (labels_all_simba_seed2[s]<3)],\n",
    "                                average='macro'))\n",
    "    macro_asoid.append(f1_score(targets_test[(targets_test<3) & (predictions_list[-1][s]<3)],\n",
    "                                predictions_list[-1][s][(targets_test<3) & (predictions_list[-1][s]<3)],\n",
    "                                average='macro'))\n",
    "\n",
    "    f1_deg_other.append(f1_score(targets_test,\n",
    "                              labels_all_deg_seed[s], average=None))\n",
    "    f1_simba_other.append(f1_score(targets_test,\n",
    "                                labels_all_simba_seed2[s], average=None))\n",
    "    f1_asoid_other.append(f1_score(targets_test,\n",
    "                                predictions_list[-1][s], average=None))\n",
    "\n",
    "    f1_deg.append(f1_score(targets_test[(targets_test<3) & (labels_all_deg_seed[s]<3)],\n",
    "                              labels_all_deg_seed[s][(targets_test<3) & (labels_all_deg_seed[s]<3)], average=None))\n",
    "    f1_simba.append(f1_score(targets_test[(targets_test<3) & (labels_all_simba_seed2[s]<3)],\n",
    "                                labels_all_simba_seed2[s][(targets_test<3) & (labels_all_simba_seed2[s]<3)], average=None))\n",
    "    f1_asoid.append(f1_score(targets_test[(targets_test<3) & (predictions_list[-1][s]<3)],\n",
    "                                predictions_list[-1][s][(targets_test<3) & (predictions_list[-1][s]<3)], average=None))"
   ],
   "metadata": {
    "collapsed": false
   }
  },
  {
   "cell_type": "code",
   "execution_count": 5,
   "outputs": [],
   "source": [
    "# stacking different metric types\n",
    "micro_other = [np.mean(micro_simba_other), np.mean(micro_deg_other), np.mean(micro_asoid_other)]\n",
    "micro = [np.mean(micro_simba), np.mean(micro_deg), np.mean(micro_asoid)]\n",
    "macro_other = [np.mean(macro_simba_other), np.mean(macro_deg_other), np.mean(macro_asoid_other)]\n",
    "macro = [np.mean(macro_simba), np.mean(macro_deg), np.mean(macro_asoid)]\n",
    "f1_other = [np.mean(f1_simba_other, axis=0), np.mean(f1_deg_other, axis=0), np.mean(f1_asoid_other, axis=0)]\n",
    "f1 = [np.mean(f1_simba, axis=0), np.mean(f1_deg, axis=0), np.mean(f1_asoid, axis=0)]\n",
    "# put all in one list for figure\n",
    "perf_metrics = [\n",
    "    micro_other, micro,\n",
    "    macro_other, macro,\n",
    "    f1_other, f1,\n",
    "               ]"
   ],
   "metadata": {
    "collapsed": false
   }
  },
  {
   "cell_type": "code",
   "execution_count": 6,
   "outputs": [
    {
     "data": {
      "text/plain": "<Figure size 200x600 with 6 Axes>",
      "image/png": "[encoded data removed]"
     },
     "metadata": {},
     "output_type": "display_data"
    }
   ],
   "source": [
    "rows = 3\n",
    "cols = 2\n",
    "width = 0.25\n",
    "count = 0\n",
    "fig, ax = plt.subplots(rows, cols, figsize=(2, 6), sharey=True, sharex=False)\n",
    "for row in range(rows):\n",
    "    for col in range(cols):\n",
    "        if count < 4:\n",
    "            ax[row, col].bar(np.arange(len(perf_metrics[count])), perf_metrics[count],\n",
    "                             color=['gray', 'dodgerblue', 'deeppink'])\n",
    "            if count == 3:\n",
    "                ax[row, col].bar(3, 0.793,\n",
    "                    color='k', alpha=0.8)\n",
    "                ax[row, col].bar(4, 0.864,\n",
    "                        color='k')\n",
    "#                 ax[row, col].hlines(0.793, -.5, 2.5, color='k', ls=':')\n",
    "#                 ax[row, col].hlines(0.864, -.5, 2.5, color='k', ls='--')\n",
    "\n",
    "\n",
    "        elif count == 4:\n",
    "            ax[row, col].bar(np.arange(len(perf_metrics[count][0])) - width , perf_metrics[count][0],\n",
    "                    width, color='gray')\n",
    "            ax[row, col].bar(np.arange(len(perf_metrics[count][1])) , perf_metrics[count][1],\n",
    "                        width, color='dodgerblue')\n",
    "            ax[row, col].bar(np.arange(len(perf_metrics[count][2])) + width, perf_metrics[count][2],\n",
    "                        width, color='deeppink')\n",
    "        elif count == 5:\n",
    "            width=0.175\n",
    "            ax[row, col].bar(np.arange(len(perf_metrics[count][0])) - 2*width , perf_metrics[count][0],\n",
    "                    width, color='gray')\n",
    "            ax[row, col].bar(np.arange(len(perf_metrics[count][1])) - width, perf_metrics[count][1],\n",
    "                        width, color='dodgerblue')\n",
    "            ax[row, col].bar(np.arange(len(perf_metrics[count][2])) , perf_metrics[count][2],\n",
    "                        width, color='deeppink')\n",
    "            ax[row, col].bar(np.arange(len(perf_metrics[count][2])) + width, [0.664, 0.814, 0.900],\n",
    "                    width, color='k', alpha=0.8)\n",
    "            ax[row, col].bar(np.arange(len(perf_metrics[count][2])) + width*2, [0.827, 0.852, 0.913],\n",
    "                    width, color='k')\n",
    "\n",
    "#                 ax[row, col].hlines(0.664, -.5, 2.5, color='deeppink', ls=':')\n",
    "#                 ax[row, col].hlines(0.827, -.5, 2.5, color='deeppink', ls='--')\n",
    "#                 ax[row, col].hlines(0.814, -.5, 2.5, color='deeppink', ls=':')\n",
    "#                 ax[row, col].hlines(0.852, -.5, 2.5, color='deeppink', ls='--')\n",
    "        if count == 4:\n",
    "            ax[row, col].set_xlim([-.5, 3.5])\n",
    "        elif count == 3:\n",
    "            ax[row, col].set_xlim([-.5, 4.5])\n",
    "        else:\n",
    "            ax[row, col].set_xlim([-.5, 2.5])\n",
    "#         else:\n",
    "#             ax[row, col].bar(np.arange(len(perf_metrics[count])), perf_metrics[count])\n",
    "        count += 1\n",
    "        ax[row, col].set_ylim([0.25, 1])\n",
    "\n",
    "\n",
    "        ax[row, col].spines['right'].set_visible(False)\n",
    "        ax[row, col].spines['top'].set_visible(False)\n",
    "\n",
    "# fig.savefig(r'F:\\My Drive\\manuscript_figures\\asoid/additional/comparative_perf2.svg')"
   ],
   "metadata": {
    "collapsed": false
   }
  },
  {
   "cell_type": "code",
   "execution_count": null,
   "outputs": [],
   "source": [],
   "metadata": {
    "collapsed": false
   }
  }
 ],
 "metadata": {
  "kernelspec": {
   "display_name": "Python 3",
   "language": "python",
   "name": "python3"
  },
  "language_info": {
   "codemirror_mode": {
    "name": "ipython",
    "version": 2
   },
   "file_extension": ".py",
   "mimetype": "text/x-python",
   "name": "python",
   "nbconvert_exporter": "python",
   "pygments_lexer": "ipython2",
   "version": "2.7.6"
  }
 },
 "nbformat": 4,
 "nbformat_minor": 0
}
